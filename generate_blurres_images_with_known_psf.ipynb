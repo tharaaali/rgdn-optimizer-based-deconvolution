{
 "cells": [
  {
   "cell_type": "markdown",
   "metadata": {},
   "source": [
    "# Non-blind-deconvolution\n",
    "\n",
    "To do non-blind-deconvolution with custom PSF, we will chose PSF paramteres and save images to make dataset for training Neural network model\n",
    "\n",
    "\n",
    "## 1. Problem\n",
    "\n",
    "Non blind deconvolution\n",
    "we have blure image and the kernel that has been used to be blured, we need to get the laten image \n",
    "y = k ∗ x + n\n",
    "\n",
    "* y ∈ R^m : blurred image \n",
    "* k ∈ R^l : corresponding blur kernel k\n",
    "* x ∈ R^n : latent image  \n",
    "* ∗ denotes the convolution operator\n",
    "* n ∈ R^m : denotes an i.i.d. white Gaussian noise term with unknown standard deviation (i.e. noise level).\n",
    "\n",
    "givin y and k, we need to estimate x\n",
    "\n",
    "k is the psf of an eye of individuals having refractive vision problems. !\n",
    "\n",
    "we will make  k (psf) and generate y images\n",
    "\n",
    "\n",
    "## 2. Data\n",
    "\n",
    "The data we're using till now: *DATASET FROM HRTR: http://chaladze.com/l5/* \n",
    "//could be updated later\n",
    "\n",
    "\n",
    "## 4. Features\n",
    "\n",
    "Some information about the data:\n",
    "* We're dealing with images (unstructured data) so it's probably best we use deep learning/transfer learning.\n",
    "* We're generating dataset : blur kernel k, and n noise , and then y by ourself   \n",
    "* \n",
    "* . \n"
   ]
  },
  {
   "cell_type": "code",
   "execution_count": 1,
   "metadata": {},
   "outputs": [],
   "source": [
    "#path for dataset folder:\n",
    "DATA_DIR = \"dataFiles/Linnaeus 5 256X256/\"\n",
    "\n",
    "#num_params for psf - for sweet project that makes psf \n",
    "num_params=5 # or 20 later! \n",
    "\n",
    "#path for already trained models folder:\n",
    "MODEL_DIR='trainedModels/'\n",
    "\n",
    "#folder to save psf parameters \n",
    "save_psf_parameter_folder = 'psf_parameters/'\n",
    "\n",
    "#psf is shifted from sweet project \n",
    "SHIFT = True"
   ]
  },
  {
   "cell_type": "markdown",
   "metadata": {},
   "source": [
    "### Get our workspace ready\n",
    "\n",
    "* Reload all modules (except those excluded by %aimport) automatically now. '%autoreload'\n",
    "* Reload all modules (except those excluded by %aimport) every time before executing the Python code typed. '%autoreload 2' ✅\n",
    "* Import torch=1.10 ✅\n",
    "* Make sure we're using a GPU ✅\n",
    "* install lib  pydoe, torchsummary, torchmetrics, piq ✅\n"
   ]
  },
  {
   "cell_type": "code",
   "execution_count": 2,
   "metadata": {},
   "outputs": [],
   "source": [
    "%load_ext autoreload\n",
    "%autoreload 2 "
   ]
  },
  {
   "cell_type": "code",
   "execution_count": 3,
   "metadata": {},
   "outputs": [],
   "source": [
    "%reload_ext autoreload"
   ]
  },
  {
   "cell_type": "code",
   "execution_count": 6,
   "metadata": {},
   "outputs": [],
   "source": [
    "# #install necessary tools / either this cell or next\n",
    "# ! pip install -r requirements.txt"
   ]
  },
  {
   "cell_type": "code",
   "execution_count": 2,
   "metadata": {},
   "outputs": [],
   "source": [
    "#install necessary tools\n",
    "# !pip install pydoe -q\n",
    "# !pip install torchsummary -q\n",
    "# !pip install torchmetrics -q\n",
    "# !pip install piq -q\n",
    "\n",
    "\n",
    "# !pip install torch==1.10 \n",
    " "
   ]
  },
  {
   "cell_type": "code",
   "execution_count": 2,
   "metadata": {},
   "outputs": [
    {
     "name": "stdout",
     "output_type": "stream",
     "text": [
      "pytorch version: 1.10.0+cu102\n",
      "GPU available (YESSSS!!!!!)\n"
     ]
    }
   ],
   "source": [
    "# Import necessary tools\n",
    "import torch\n",
    "\n",
    "# from __future__ import print_function, absolute_import\n",
    "import torch\n",
    "import os\n",
    "# import scipy.io as sio\n",
    "from torch.utils.data import Dataset, DataLoader\n",
    "import numpy as np\n",
    "# from data.make_kernel import kernel_sim_spline\n",
    "import matplotlib.pyplot as plt\n",
    "from sklearn.feature_extraction import image\n",
    "from pathlib import Path\n",
    "# from operator import itemgetter\n",
    "from skimage.color import rgb2gray\n",
    "import pyDOE as doe # LHS\n",
    "from scipy.stats.distributions import uniform\n",
    "from tqdm import tqdm\n",
    "# from skimage import util, filters\n",
    "# from scipy import signal\n",
    "\n",
    "from PIL import Image\n",
    "import pandas as pd\n",
    "import numpy as np\n",
    "from skimage import io , img_as_ubyte\n",
    "\n",
    "from sweet.sweet import Sweet\n",
    "from sweet.util.fft import shift, fft_conv\n",
    "\n",
    "from sklearn.model_selection import train_test_split\n",
    "\n",
    "#import the NNmodel for our training\n",
    "from NNmodels.model_rgdn import OptimizerRGDN\n",
    "\n",
    "\n",
    "# import the evalution function\n",
    "from skimage.metrics import structural_similarity as ssim\n",
    "\n",
    "print(\"pytorch version:\", torch.__version__)\n",
    "# \n",
    "# Check for GPU availability\n",
    "print(\"GPU\", \"available (YESSSS!!!!!)\" if torch.cuda.is_available() else \"not available :(\")"
   ]
  },
  {
   "cell_type": "markdown",
   "metadata": {},
   "source": [
    "## Getting our data ready (turning into Tensors)\n",
    "\n",
    "With all machine learning models, our data has to be in numerical format. So that's what we'll be doing first. Turning our images into Tensors (numerical representations).\n",
    "\n",
    "Let's start by accessing our data and checking out the labels."
   ]
  },
  {
   "cell_type": "code",
   "execution_count": 3,
   "metadata": {},
   "outputs": [],
   "source": [
    "#get psf parameters \n",
    "\n",
    "def get_psf(S, A, C, pupil_diam):\n",
    "    sweet = Sweet()\n",
    "    sweet.set_eye_prescription(\n",
    "        S = S, \n",
    "        A = A,\n",
    "        C = C)\n",
    "    sweet.set_experiment_params(\n",
    "        pupil_diam = pupil_diam,  \n",
    "        view_dist = 100.0,      \n",
    "        canvas_size_h = 10.0)\n",
    "    psf = sweet._psf()\n",
    "    return psf"
   ]
  },
  {
   "cell_type": "code",
   "execution_count": 4,
   "metadata": {},
   "outputs": [],
   "source": [
    "#fixed parameters for psf \n",
    "\n",
    "fixed_params = {\n",
    "    'pupil_diam' : 2.5,\n",
    "    'A' : 0\n",
    "    \n",
    "    # order: S[-8,-4], A, C[-3,0], pupil_diam\n",
    "    # for later: needs to be : S[-8,-2], C[-3,0], A[0,360 degree]\n",
    "}"
   ]
  },
  {
   "cell_type": "code",
   "execution_count": 5,
   "metadata": {
    "scrolled": true
   },
   "outputs": [
    {
     "name": "stderr",
     "output_type": "stream",
     "text": [
      "100%|██████████| 5/5 [00:00<00:00,  6.45it/s]"
     ]
    },
    {
     "name": "stdout",
     "output_type": "stream",
     "text": [
      "5\n"
     ]
    },
    {
     "name": "stderr",
     "output_type": "stream",
     "text": [
      "\n"
     ]
    },
    {
     "data": {
      "text/plain": [
       "[[-7.7,\n",
       "  0.0,\n",
       "  -2.56,\n",
       "  2.5,\n",
       "  array([[0.00060488, 0.00057969, 0.00061882, ..., 0.00059873, 0.00058937,\n",
       "          0.00061629],\n",
       "         [0.00061906, 0.00060199, 0.00060567, ..., 0.00057391, 0.00063145,\n",
       "          0.0006401 ],\n",
       "         [0.00064788, 0.00059155, 0.00055899, ..., 0.00054422, 0.00063619,\n",
       "          0.0006777 ],\n",
       "         ...,\n",
       "         [0.00062618, 0.00059193, 0.0005692 , ..., 0.00052672, 0.0006492 ,\n",
       "          0.00065611],\n",
       "         [0.00059971, 0.00056621, 0.00061072, ..., 0.00059929, 0.00060396,\n",
       "          0.00062084],\n",
       "         [0.00060012, 0.00056077, 0.00061164, ..., 0.00060283, 0.00057126,\n",
       "          0.00061016]])],\n",
       " [-4.93,\n",
       "  0.0,\n",
       "  -2.37,\n",
       "  2.5,\n",
       "  array([[0.00149893, 0.00137844, 0.00138453, ..., 0.00130915, 0.00147764,\n",
       "          0.00155193],\n",
       "         [0.00145207, 0.00131386, 0.00141506, ..., 0.00138553, 0.00144437,\n",
       "          0.00149074],\n",
       "         [0.0013927 , 0.00138037, 0.0013797 , ..., 0.00127974, 0.00154168,\n",
       "          0.00140501],\n",
       "         ...,\n",
       "         [0.00141036, 0.00135808, 0.00142083, ..., 0.00131841, 0.00148718,\n",
       "          0.00138368],\n",
       "         [0.00152402, 0.00136798, 0.00134761, ..., 0.00134837, 0.00147454,\n",
       "          0.00156414],\n",
       "         [0.00152035, 0.00141666, 0.00134556, ..., 0.00125777, 0.00151481,\n",
       "          0.00157805]])],\n",
       " [-7.08,\n",
       "  0.0,\n",
       "  -0.34,\n",
       "  2.5,\n",
       "  array([[0.00108028, 0.00110663, 0.00105334, ..., 0.00107601, 0.00098701,\n",
       "          0.0009312 ],\n",
       "         [0.00102025, 0.00090285, 0.00104423, ..., 0.00097183, 0.00091968,\n",
       "          0.00106148],\n",
       "         [0.00087719, 0.00101999, 0.00092573, ..., 0.00088457, 0.00106347,\n",
       "          0.00087429],\n",
       "         ...,\n",
       "         [0.00089979, 0.00107978, 0.00087812, ..., 0.00088256, 0.00106999,\n",
       "          0.00093796],\n",
       "         [0.00110572, 0.0009125 , 0.00101484, ..., 0.00094983, 0.00095772,\n",
       "          0.00106934],\n",
       "         [0.00101464, 0.0010383 , 0.00107301, ..., 0.00106779, 0.00091316,\n",
       "          0.00100292]])],\n",
       " [-4.56,\n",
       "  0.0,\n",
       "  -1.09,\n",
       "  2.5,\n",
       "  array([[0.00216509, 0.00240748, 0.00219194, ..., 0.00238149, 0.00222799,\n",
       "          0.00203936],\n",
       "         [0.00225095, 0.00224007, 0.00221471, ..., 0.00235896, 0.0021655 ,\n",
       "          0.00200276],\n",
       "         [0.00195697, 0.00205048, 0.00240137, ..., 0.00238968, 0.00190919,\n",
       "          0.0022734 ],\n",
       "         ...,\n",
       "         [0.00207318, 0.00198807, 0.00241137, ..., 0.00232786, 0.0019416 ,\n",
       "          0.00225476],\n",
       "         [0.00241032, 0.00218307, 0.0022256 , ..., 0.00234853, 0.00207805,\n",
       "          0.00227439],\n",
       "         [0.00211702, 0.00253746, 0.0021319 , ..., 0.00239983, 0.0022578 ,\n",
       "          0.00201501]])],\n",
       " [-5.92,\n",
       "  0.0,\n",
       "  -1.79,\n",
       "  2.5,\n",
       "  array([[0.00111462, 0.00104662, 0.00116378, ..., 0.00109595, 0.00107354,\n",
       "          0.00114342],\n",
       "         [0.00113308, 0.00110089, 0.0010534 , ..., 0.00099009, 0.00119558,\n",
       "          0.00119147],\n",
       "         [0.00120412, 0.00106308, 0.00108537, ..., 0.00102052, 0.00108989,\n",
       "          0.00126614],\n",
       "         ...,\n",
       "         [0.00114034, 0.00114686, 0.00103517, ..., 0.0010207 , 0.00113979,\n",
       "          0.00118502],\n",
       "         [0.00109902, 0.00102322, 0.00108666, ..., 0.00098822, 0.00116362,\n",
       "          0.00115237],\n",
       "         [0.00111703, 0.00099877, 0.00118521, ..., 0.00114912, 0.00102753,\n",
       "          0.00114317]])]]"
      ]
     },
     "execution_count": 5,
     "metadata": {},
     "output_type": "execute_result"
    }
   ],
   "source": [
    "#make costumed psf \n",
    "   \n",
    "      \n",
    "def costumed_psf(rand_values=True,\n",
    "                 S=[-4.0]*5,\n",
    "                 C=[-1.5]*5,\n",
    "                 sphere_first_value=-8.0,\n",
    "                 sphere_scale=4,\n",
    "                 Cylinder_first_value=-3.0,\n",
    "                 Cylinder_scale=3.0,\n",
    "                 num_params=5):\n",
    "    \n",
    "    \n",
    "    \"\"\"\n",
    "    Function to get costumed psf either by scale of Sphere and sylinder values, or by excact values for S,C.\n",
    "    \n",
    "    :param: rand_values: boolen to determin if psf parameters are randomly generated\n",
    "    :param: S: defult=[-4.0]*num_params,sphere parameter psf, considered if rand_values=False\n",
    "    :param: C: defult=[-1.5]*num_params, Cylinder parameter psf, considered if rand_values=False\n",
    "    :param: sphere_first_value: defult=-8, the first value S parameter takes\n",
    "    :param: sphere_scale: defult=4, the scale that S can differ in \n",
    "    :param: Cylinder_first_value: defult=-3, the first value C parameter takes\n",
    "    :param: Cylinder_scale: defult=3, the scale that C can differ in \n",
    "    :param: num_params: how many psf sample we want \n",
    "    \n",
    "    :return: list of psf\n",
    "    \"\"\"\n",
    "    \n",
    "    #num_params :how many psf sample we want \n",
    "    params = doe.lhs(4, samples=num_params) # order: S, A, C, pupil_diam\n",
    "    \n",
    "    #P: pupil diameter = 2.5\n",
    "    params[:, 3] = fixed_params['pupil_diam']\n",
    "    \n",
    "    #A: angel by degrees\n",
    "    params[:, 1] = fixed_params['A']\n",
    "    \n",
    "    if rand_values== True:\n",
    "        \n",
    "        #S: is random number in interval [-8,-4]\n",
    "        params[:, 0] = uniform(loc=sphere_first_value, scale=sphere_scale).ppf(params[:,0])\n",
    "        \n",
    "\n",
    "        #C: is random number in interval [-3,0]\n",
    "        params[:, 2] = uniform(loc=Cylinder_first_value, scale=Cylinder_scale).ppf(params[:, 2])\n",
    "    else:\n",
    "        #S: is exact number givin\n",
    "        params[:, 0] = S\n",
    "\n",
    "        #C: is exact number given\n",
    "        params[:, 2] = C\n",
    "    # round the parameters just for easy saving \n",
    "    \n",
    "    params[:, 0]= [round(num, 2) for num in params[:, 0]]\n",
    "    params[:, 2] = [round(num, 2) for num in params[:, 2]]\n",
    "    \n",
    "    params = params.tolist()\n",
    "\n",
    "    for i in tqdm(range(num_params)):\n",
    "        \n",
    "        #get an 256*256 numpy array as psf\n",
    "#         print(\"*params[i]\")\n",
    "#         print(*params[i])\n",
    "        psf = get_psf(*params[i])\n",
    "        psf = psf / psf.sum()        # ADD NORMALIZING\n",
    "        # add the recieved numpy array psf to list \n",
    "        params[i].append(psf)\n",
    "    \n",
    "    \n",
    "    return params\n",
    "\n",
    "\n",
    "np.random.seed(42)\n",
    "params=costumed_psf()        \n",
    "      \n",
    "\n",
    "    \n",
    "# for param in params:\n",
    "#     for p in param:\n",
    "#         print(str(p))\n",
    "#     print('\\n')\n",
    "            \n",
    "print (len(params))\n",
    "params"
   ]
  },
  {
   "cell_type": "code",
   "execution_count": null,
   "metadata": {},
   "outputs": [],
   "source": [
    "\n"
   ]
  },
  {
   "cell_type": "code",
   "execution_count": 6,
   "metadata": {},
   "outputs": [],
   "source": [
    " \n",
    "\n",
    "name_of_file = \"psf_to_generate_blurred_images\"\n",
    "\n",
    "\n",
    "#save parameters for seet project\n",
    "def save_params(name_of_file, params):\n",
    "    completeName = os.path.join(save_psf_parameter_folder, name_of_file+\".txt\")             \n",
    "    with open(completeName, 'a') as f:\n",
    "        f.truncate(0)\n",
    "        for param in params:\n",
    "            for p in param:\n",
    "                f.write(str(p))\n",
    "                f.write('\\n')\n",
    "            f.write('\\n+\\n\\n')\n",
    "            \n",
    "        f.close()\n",
    "            "
   ]
  },
  {
   "cell_type": "code",
   "execution_count": 7,
   "metadata": {},
   "outputs": [],
   "source": [
    "save_params(name_of_file, params)"
   ]
  },
  {
   "cell_type": "code",
   "execution_count": 8,
   "metadata": {
    "scrolled": true
   },
   "outputs": [
    {
     "name": "stdout",
     "output_type": "stream",
     "text": [
      "5\n",
      "5\n",
      "5\n",
      "5\n",
      "5\n",
      "-7.7\n",
      "0.0\n",
      "-2.56\n",
      "2.5\n",
      "\n",
      "\n",
      "-4.93\n",
      "0.0\n",
      "-2.37\n",
      "2.5\n",
      "\n",
      "\n",
      "-7.08\n",
      "0.0\n",
      "-0.34\n",
      "2.5\n",
      "\n",
      "\n",
      "-4.56\n",
      "0.0\n",
      "-1.09\n",
      "2.5\n",
      "\n",
      "\n",
      "-5.92\n",
      "0.0\n",
      "-1.79\n",
      "2.5\n",
      "\n",
      "\n"
     ]
    }
   ],
   "source": [
    "# len(params)\n",
    "for param in range(len(params)):\n",
    "    print(len(params[param]))\n",
    "    \n",
    "for param in params:\n",
    "            for p in param[:-1]:\n",
    "                print(str(p))\n",
    "#                 print('\\n')\n",
    "            print('\\n')"
   ]
  },
  {
   "cell_type": "code",
   "execution_count": null,
   "metadata": {},
   "outputs": [],
   "source": []
  },
  {
   "cell_type": "code",
   "execution_count": 9,
   "metadata": {
    "scrolled": true
   },
   "outputs": [
    {
     "name": "stdout",
     "output_type": "stream",
     "text": [
      "The directory: (dataFiles/Linnaeus 5 256X256/train_blurred_imgs/psf_[-7.7, 0.0, -2.56, 2.5]) is already existed!\n",
      "The directory: (dataFiles/Linnaeus 5 256X256/train_blurred_imgs/psf_[-4.93, 0.0, -2.37, 2.5]) is already existed!\n",
      "The directory: (dataFiles/Linnaeus 5 256X256/train_blurred_imgs/psf_[-7.08, 0.0, -0.34, 2.5]) is already existed!\n",
      "The directory: (dataFiles/Linnaeus 5 256X256/train_blurred_imgs/psf_[-4.56, 0.0, -1.09, 2.5]) is already existed!\n",
      "The directory: (dataFiles/Linnaeus 5 256X256/train_blurred_imgs/psf_[-5.92, 0.0, -1.79, 2.5]) is already existed!\n"
     ]
    }
   ],
   "source": [
    "#folder for every psf with its\n",
    "Folder_to_save = DATA_DIR + \"train_blurred_imgs/\"\n",
    "psf_pathes=[]\n",
    "for param in params:\n",
    "    \n",
    "    name_of_psf_folder= f\"psf_{param[:-1]}\"\n",
    "    path = Folder_to_save+ name_of_psf_folder \n",
    "    psf_pathes.append(path)\n",
    "\n",
    "    # Check whether the specified path exists or not\n",
    "    if not (os.path.exists(path)):\n",
    "        # Create a new directory because it does not exist \n",
    "        os.makedirs(path)\n",
    "        print(f\"The new directory: ({path}) is created!\")\n",
    "    else:\n",
    "        print(f\"The directory: ({path}) is already existed!\")"
   ]
  },
  {
   "cell_type": "code",
   "execution_count": 10,
   "metadata": {},
   "outputs": [
    {
     "data": {
      "text/plain": [
       "'dataFiles/Linnaeus 5 256X256/train_blurred_imgs/psf_[-7.08, 0.0, -0.34, 2.5]'"
      ]
     },
     "execution_count": 10,
     "metadata": {},
     "output_type": "execute_result"
    }
   ],
   "source": [
    "psf_pathes[2]\n",
    "\n"
   ]
  },
  {
   "cell_type": "code",
   "execution_count": 11,
   "metadata": {},
   "outputs": [
    {
     "name": "stdout",
     "output_type": "stream",
     "text": [
      "The directory: (dataFiles/Linnaeus 5 256X256/train_blurred_imgs/psf_[-7.7, 0.0, -2.56, 2.5]_noisy) is already existed!\n",
      "The directory: (dataFiles/Linnaeus 5 256X256/train_blurred_imgs/psf_[-4.93, 0.0, -2.37, 2.5]_noisy) is already existed!\n",
      "The directory: (dataFiles/Linnaeus 5 256X256/train_blurred_imgs/psf_[-7.08, 0.0, -0.34, 2.5]_noisy) is already existed!\n",
      "The directory: (dataFiles/Linnaeus 5 256X256/train_blurred_imgs/psf_[-4.56, 0.0, -1.09, 2.5]_noisy) is already existed!\n",
      "The directory: (dataFiles/Linnaeus 5 256X256/train_blurred_imgs/psf_[-5.92, 0.0, -1.79, 2.5]_noisy) is already existed!\n"
     ]
    }
   ],
   "source": [
    "#create folders for blurred images with noise \n",
    "Folder_to_save = DATA_DIR + \"train_blurred_imgs/\"\n",
    "psf_pathes_nois=[]\n",
    "for param in params:\n",
    "    \n",
    "    name_of_psf_folder= f\"psf_{param[:-1]}_noisy\"\n",
    "    path = Folder_to_save+ name_of_psf_folder \n",
    "    psf_pathes_nois.append(path)\n",
    "\n",
    "    # Check whether the specified path exists or not\n",
    "    if not (os.path.exists(path)):\n",
    "        # Create a new directory because it does not exist \n",
    "        os.makedirs(path)\n",
    "        print(f\"The new directory: ({path}) is created!\")\n",
    "    else:\n",
    "        print(f\"The directory: ({path}) is already existed!\")\n"
   ]
  },
  {
   "cell_type": "code",
   "execution_count": 12,
   "metadata": {},
   "outputs": [
    {
     "data": {
      "text/plain": [
       "['dataFiles/Linnaeus 5 256X256/train_blurred_imgs/psf_[-7.7, 0.0, -2.56, 2.5]_noisy',\n",
       " 'dataFiles/Linnaeus 5 256X256/train_blurred_imgs/psf_[-4.93, 0.0, -2.37, 2.5]_noisy',\n",
       " 'dataFiles/Linnaeus 5 256X256/train_blurred_imgs/psf_[-7.08, 0.0, -0.34, 2.5]_noisy',\n",
       " 'dataFiles/Linnaeus 5 256X256/train_blurred_imgs/psf_[-4.56, 0.0, -1.09, 2.5]_noisy',\n",
       " 'dataFiles/Linnaeus 5 256X256/train_blurred_imgs/psf_[-5.92, 0.0, -1.79, 2.5]_noisy']"
      ]
     },
     "execution_count": 12,
     "metadata": {},
     "output_type": "execute_result"
    }
   ],
   "source": [
    "psf_pathes_nois"
   ]
  },
  {
   "cell_type": "code",
   "execution_count": 13,
   "metadata": {},
   "outputs": [],
   "source": [
    "# save in SCV file psf param, path to ground truth image, path to blurred image, path to blurred noisy image "
   ]
  },
  {
   "cell_type": "code",
   "execution_count": 14,
   "metadata": {},
   "outputs": [
    {
     "data": {
      "text/plain": [
       "(256, 256)"
      ]
     },
     "execution_count": 14,
     "metadata": {},
     "output_type": "execute_result"
    }
   ],
   "source": [
    "params[0][-1].shape"
   ]
  },
  {
   "cell_type": "markdown",
   "metadata": {},
   "source": [
    "# numpy functions to save and upload an nparray \n",
    "np.save(\"filename\", image)\n",
    "\n",
    " np.load(\"filename.npy\")\n"
   ]
  },
  {
   "cell_type": "markdown",
   "metadata": {},
   "source": [
    "# Code to generate blurred images, noisy + not noisy \n"
   ]
  },
  {
   "cell_type": "code",
   "execution_count": 15,
   "metadata": {
    "scrolled": true
   },
   "outputs": [
    {
     "name": "stderr",
     "output_type": "stream",
     "text": [
      " 89%|████████▉ | 5360/6000 [17:36<01:55,  5.55it/s]/opt/conda/lib/python3.6/site-packages/ipykernel_launcher.py:66: UserWarning: dataFiles/Linnaeus 5 256X256/train_blurred_imgs/psf_[-7.7, 0.0, -2.56, 2.5]/psf+[-7.7, 0.0, -2.56, 2.5]+GT+other+496_256.jpg is a low contrast image\n",
      "/opt/conda/lib/python3.6/site-packages/ipykernel_launcher.py:66: UserWarning: dataFiles/Linnaeus 5 256X256/train_blurred_imgs/psf_[-4.93, 0.0, -2.37, 2.5]/psf+[-4.93, 0.0, -2.37, 2.5]+GT+other+496_256.jpg is a low contrast image\n",
      "/opt/conda/lib/python3.6/site-packages/ipykernel_launcher.py:66: UserWarning: dataFiles/Linnaeus 5 256X256/train_blurred_imgs/psf_[-7.08, 0.0, -0.34, 2.5]/psf+[-7.08, 0.0, -0.34, 2.5]+GT+other+496_256.jpg is a low contrast image\n",
      "/opt/conda/lib/python3.6/site-packages/ipykernel_launcher.py:66: UserWarning: dataFiles/Linnaeus 5 256X256/train_blurred_imgs/psf_[-5.92, 0.0, -1.79, 2.5]/psf+[-5.92, 0.0, -1.79, 2.5]+GT+other+496_256.jpg is a low contrast image\n",
      " 91%|█████████▏| 5475/6000 [17:58<01:48,  4.84it/s]/opt/conda/lib/python3.6/site-packages/ipykernel_launcher.py:66: UserWarning: dataFiles/Linnaeus 5 256X256/train_blurred_imgs/psf_[-7.7, 0.0, -2.56, 2.5]/psf+[-7.7, 0.0, -2.56, 2.5]+GT+other+435_256.jpg is a low contrast image\n",
      "/opt/conda/lib/python3.6/site-packages/ipykernel_launcher.py:112: UserWarning: dataFiles/Linnaeus 5 256X256/train_blurred_imgs/psf_[-7.7, 0.0, -2.56, 2.5]_noisy/psf+[-7.7, 0.0, -2.56, 2.5]+noisy+GT+other+435_256.jpg is a low contrast image\n",
      "/opt/conda/lib/python3.6/site-packages/ipykernel_launcher.py:66: UserWarning: dataFiles/Linnaeus 5 256X256/train_blurred_imgs/psf_[-4.93, 0.0, -2.37, 2.5]/psf+[-4.93, 0.0, -2.37, 2.5]+GT+other+435_256.jpg is a low contrast image\n",
      "/opt/conda/lib/python3.6/site-packages/ipykernel_launcher.py:112: UserWarning: dataFiles/Linnaeus 5 256X256/train_blurred_imgs/psf_[-4.93, 0.0, -2.37, 2.5]_noisy/psf+[-4.93, 0.0, -2.37, 2.5]+noisy+GT+other+435_256.jpg is a low contrast image\n",
      "/opt/conda/lib/python3.6/site-packages/ipykernel_launcher.py:66: UserWarning: dataFiles/Linnaeus 5 256X256/train_blurred_imgs/psf_[-7.08, 0.0, -0.34, 2.5]/psf+[-7.08, 0.0, -0.34, 2.5]+GT+other+435_256.jpg is a low contrast image\n",
      "/opt/conda/lib/python3.6/site-packages/ipykernel_launcher.py:66: UserWarning: dataFiles/Linnaeus 5 256X256/train_blurred_imgs/psf_[-4.56, 0.0, -1.09, 2.5]/psf+[-4.56, 0.0, -1.09, 2.5]+GT+other+435_256.jpg is a low contrast image\n",
      "/opt/conda/lib/python3.6/site-packages/ipykernel_launcher.py:66: UserWarning: dataFiles/Linnaeus 5 256X256/train_blurred_imgs/psf_[-5.92, 0.0, -1.79, 2.5]/psf+[-5.92, 0.0, -1.79, 2.5]+GT+other+435_256.jpg is a low contrast image\n",
      "100%|██████████| 6000/6000 [19:42<00:00,  5.07it/s]\n"
     ]
    }
   ],
   "source": [
    "# loop for the images to blurr them \n",
    "patch_size=256\n",
    "imddx=0 #index for images\n",
    "psfdx=0 #index for PSFs \n",
    "is_rgb= False # is imges coloured \n",
    "noise_level_interval = (0.003,0.015) # the percentage of noise levels (interval)\n",
    "noise_level= None  # the percentage of noise levels (fixed value)\n",
    "train_dir = Path(os.path.join(DATA_DIR, 'train')) # paths to train folders \n",
    "list_train_files_names = list(train_dir.rglob('*.jpg'))  # paths to all train images  \n",
    "proceced_imgs=0  # proceced_imgess\n",
    "\n",
    "\n",
    "# create an Empty pandas DataFrame to keep track of ground truth img, and blurr kernel (psf params)\n",
    "df = pd.DataFrame()\n",
    "df['PSF_params'] = []\n",
    "df['Path_to_Ground_truth_img'] = []\n",
    "df['Path_to_blurred_img'] = []\n",
    "df['Path_to_blurred_img_noisy'] = []\n",
    "\n",
    "number_of_all_images = len( list_train_files_names)\n",
    "number_of_PSFs= len(params)\n",
    "\n",
    "for imddx in tqdm(range(number_of_all_images)):\n",
    "    \n",
    "    \n",
    "    for psfdx in range(number_of_PSFs):\n",
    "#         print(psfdx, params[psfdx][:-1],proceced_imgs)\n",
    "        k = params[psfdx][-1]\n",
    "\n",
    "        img_name = list_train_files_names[imddx]\n",
    "        sample = plt.imread(img_name)\n",
    "\n",
    "        if sample.shape[0] < patch_size or sample.shape[\n",
    "                1] < patch_size:\n",
    "            print(\"ERROR, Input images expected to be of size 256x256\")\n",
    "\n",
    "        patches = image.extract_patches_2d(sample,\n",
    "                                           [patch_size, patch_size],\n",
    "                                           max_patches=1)\n",
    "        sample = patches[0, ...]\n",
    "        sample = sample.astype(np.float32) / 255.0\n",
    "\n",
    "        if not is_rgb:\n",
    "            sample = rgb2gray(sample)\n",
    "\n",
    "        y = fft_conv(sample, k)\n",
    "        y =y.astype(np.float32) \n",
    "\n",
    "        # plt.imshow(y)\n",
    "\n",
    "        # save y (blurred image)\n",
    "        # take the name of file and folder for GT img\n",
    "        name_gt=str(list_train_files_names[imddx]).split(\"/\")[-2]+\"+\"+str(list_train_files_names[imddx]).split(\"/\")[-1]\n",
    "        # name of img to save\n",
    "        blurres_img_name = f\"psf+{params[psfdx][:-1]}+GT+{name_gt}\"\n",
    "\n",
    "        # im = Image.fromarray(y)\n",
    "        path_to_save_blurred= psf_pathes[psfdx]+'/'+ blurres_img_name\n",
    "\n",
    "        #save the blurred image\n",
    "\n",
    "        #as np.array to get the same exact values\n",
    "        np.save(path_to_save_blurred, y)\n",
    "\n",
    "        #as img just for visulsaiton the files in case it's needed \n",
    "        io.imsave(os.path.join(psf_pathes[psfdx],blurres_img_name),img_as_ubyte(y))\n",
    "\n",
    "\n",
    "\n",
    "        # add noise:\n",
    "\n",
    "        ytensor_noisy = torch.tensor(y, dtype=torch.float32).unsqueeze(0)\n",
    "\n",
    "        #       #adding noise nl\n",
    "        nl=0.0 #if no noise_level added it will be 0 \n",
    "        if noise_level_interval is not None:\n",
    "            nl = np.random.uniform(noise_level_interval[0], noise_level_interval[1])  #0.3% - 1.5%\n",
    "\n",
    "        elif noise_level is not None:\n",
    "            nl = self.noise_level\n",
    "\n",
    "        #add noise to blurred image \n",
    "        ytensor_noisy = ytensor_noisy + nl * torch.randn_like(ytensor_noisy)\n",
    "        ytensor_noisy = torch.clamp(ytensor_noisy * 255.0, 0, 255)\n",
    "        ytensor_noisy = ytensor_noisy.type(torch.ByteTensor)\n",
    "        ytensor_noisy = ytensor_noisy.float() / 255.0\n",
    "        \n",
    "#         #some steps from articel \n",
    "#         hks=6//2\n",
    "#         ytensor_noisy = torch.nn.functional.pad(ytensor_noisy, (hks, hks, hks, hks),\n",
    "#                                         mode='replicate')\n",
    "#         ytensor_noisy = ytensor_noisy.squeeze(1)    \n",
    "        \n",
    "        \n",
    "        #numpy array of noisy blurred img tensor\n",
    "        y_np_noisy=(ytensor_noisy[0, :, :].squeeze(0).cpu().numpy())\n",
    "\n",
    "        # name of blurred img to save, will be psf params & GT name\n",
    "        blurres_img_name_noisy = f\"psf+{params[psfdx][:-1]}+noisy+GT+{name_gt}\"\n",
    "\n",
    "        path_to_save_blurred_noisy= psf_pathes_nois[psfdx]+'/'+ blurres_img_name_noisy\n",
    "\n",
    "\n",
    "        #save the noisy blurred image\n",
    "\n",
    "        #as np.array to get the same exact values\n",
    "        np.save(path_to_save_blurred_noisy, y_np_noisy)\n",
    "        #as img just for visulsaiton the files in case it's needed \n",
    "#         print(np.max(y_np_noisy), np.min(y_np_noisy))\n",
    "#         print(y_np_noisy.shape, y_np_noisy.size)\n",
    "        \n",
    "        io.imsave(os.path.join(psf_pathes_nois[psfdx],blurres_img_name_noisy),img_as_ubyte(y_np_noisy))\n",
    "\n",
    "\n",
    "\n",
    "        # save psf param, path to ground truth image, path to blurred image, path to blurred noisy image in csv file\n",
    "\n",
    "        df=df.append({'PSF_params' : params[psfdx],\n",
    "                      'Path_to_Ground_truth_img': str(list_train_files_names[imddx]),\n",
    "                      'Path_to_blurred_img': path_to_save_blurred,\n",
    "                     'Path_to_blurred_img_noisy':path_to_save_blurred_noisy },\n",
    "                      ignore_index = True)\n",
    "        \n",
    "        proceced_imgs+=1\n",
    "        \n",
    "\n",
    "    #  save the dataframe intofile\n",
    "df.to_csv('psf_GT_blurred.csv')\n",
    "\n",
    "\n",
    "    #an early stop condition if needed, to check the first batch of images\n",
    "#     if proceced_imgs> 10:\n",
    "#         break"
   ]
  },
  {
   "cell_type": "code",
   "execution_count": 24,
   "metadata": {},
   "outputs": [],
   "source": [
    "np_img_name=\"psf+[-7.7, 0.0, -2.56, 2.5]+GT+other+496_256.jpg.npy\"\n",
    "path= \"dataFiles/Linnaeus 5 256X256/train_blurred_imgs/psf_[-7.7, 0.0, -2.56, 2.5]/\""
   ]
  },
  {
   "cell_type": "code",
   "execution_count": 30,
   "metadata": {},
   "outputs": [
    {
     "data": {
      "text/plain": [
       "array([[0.7134178 , 0.7125409 , 0.7117141 , ..., 0.71609795, 0.7153456 ,\n",
       "        0.714418  ],\n",
       "       [0.7130151 , 0.712272  , 0.7115778 , ..., 0.7158217 , 0.71496105,\n",
       "        0.7139664 ],\n",
       "       [0.71275175, 0.71185315, 0.7112328 , ..., 0.7156156 , 0.7147911 ,\n",
       "        0.71380985],\n",
       "       ...,\n",
       "       [0.71473086, 0.7140088 , 0.7131734 , ..., 0.71671623, 0.71607006,\n",
       "        0.71534604],\n",
       "       [0.7141607 , 0.7132933 , 0.7123954 , ..., 0.716589  , 0.7159352 ,\n",
       "        0.71513647],\n",
       "       [0.71382797, 0.7128165 , 0.7119439 , ..., 0.7163395 , 0.7156233 ,\n",
       "        0.71478516]], dtype=float32)"
      ]
     },
     "execution_count": 30,
     "metadata": {},
     "output_type": "execute_result"
    }
   ],
   "source": [
    "c= np.load(path+np_img_name)\n",
    "c"
   ]
  },
  {
   "cell_type": "code",
   "execution_count": 31,
   "metadata": {},
   "outputs": [
    {
     "name": "stdout",
     "output_type": "stream",
     "text": [
      "0.7501739 0.7021136\n"
     ]
    },
    {
     "data": {
      "image/png": "[encoded data removed]",
      "text/plain": [
       "<Figure size 432x288 with 1 Axes>"
      ]
     },
     "metadata": {
      "needs_background": "light"
     },
     "output_type": "display_data"
    }
   ],
   "source": [
    "plt.imshow(c)\n",
    "print(np.max(c), np.min(c))"
   ]
  },
  {
   "cell_type": "code",
   "execution_count": 386,
   "metadata": {},
   "outputs": [
    {
     "data": {
      "text/plain": [
       "128.0"
      ]
     },
     "execution_count": 386,
     "metadata": {},
     "output_type": "execute_result"
    }
   ],
   "source": [
    "256//2.0"
   ]
  },
  {
   "cell_type": "code",
   "execution_count": 17,
   "metadata": {},
   "outputs": [
    {
     "data": {
      "text/plain": [
       "30000"
      ]
     },
     "execution_count": 17,
     "metadata": {},
     "output_type": "execute_result"
    }
   ],
   "source": [
    "proceced_imgs"
   ]
  },
  {
   "cell_type": "code",
   "execution_count": 32,
   "metadata": {},
   "outputs": [
    {
     "data": {
      "text/plain": [
       "<bound method Series.count of 0        dataFiles/Linnaeus 5 256X256/train_blurred_img...\n",
       "1        dataFiles/Linnaeus 5 256X256/train_blurred_img...\n",
       "2        dataFiles/Linnaeus 5 256X256/train_blurred_img...\n",
       "3        dataFiles/Linnaeus 5 256X256/train_blurred_img...\n",
       "4        dataFiles/Linnaeus 5 256X256/train_blurred_img...\n",
       "                               ...                        \n",
       "29995    dataFiles/Linnaeus 5 256X256/train_blurred_img...\n",
       "29996    dataFiles/Linnaeus 5 256X256/train_blurred_img...\n",
       "29997    dataFiles/Linnaeus 5 256X256/train_blurred_img...\n",
       "29998    dataFiles/Linnaeus 5 256X256/train_blurred_img...\n",
       "29999    dataFiles/Linnaeus 5 256X256/train_blurred_img...\n",
       "Name: Path_to_blurred_img, Length: 30000, dtype: object>"
      ]
     },
     "execution_count": 32,
     "metadata": {},
     "output_type": "execute_result"
    }
   ],
   "source": [
    "df['Path_to_blurred_img'].count"
   ]
  },
  {
   "cell_type": "code",
   "execution_count": 40,
   "metadata": {},
   "outputs": [
    {
     "data": {
      "text/html": [
       "<div>\n",
       "<style scoped>\n",
       "    .dataframe tbody tr th:only-of-type {\n",
       "        vertical-align: middle;\n",
       "    }\n",
       "\n",
       "    .dataframe tbody tr th {\n",
       "        vertical-align: top;\n",
       "    }\n",
       "\n",
       "    .dataframe thead th {\n",
       "        text-align: right;\n",
       "    }\n",
       "</style>\n",
       "<table border=\"1\" class=\"dataframe\">\n",
       "  <thead>\n",
       "    <tr style=\"text-align: right;\">\n",
       "      <th></th>\n",
       "      <th>PSF_params</th>\n",
       "      <th>Path_to_Ground_truth_img</th>\n",
       "      <th>Path_to_blurred_img</th>\n",
       "      <th>Path_to_blurred_img_noisy</th>\n",
       "    </tr>\n",
       "  </thead>\n",
       "  <tbody>\n",
       "    <tr>\n",
       "      <th>29995</th>\n",
       "      <td>[-7.7, 0.0, -2.56, 2.5, [[0.000604876734375065...</td>\n",
       "      <td>dataFiles/Linnaeus 5 256X256/train/other/995_2...</td>\n",
       "      <td>dataFiles/Linnaeus 5 256X256/train_blurred_img...</td>\n",
       "      <td>dataFiles/Linnaeus 5 256X256/train_blurred_img...</td>\n",
       "    </tr>\n",
       "    <tr>\n",
       "      <th>29996</th>\n",
       "      <td>[-4.93, 0.0, -2.37, 2.5, [[0.00149893011150010...</td>\n",
       "      <td>dataFiles/Linnaeus 5 256X256/train/other/995_2...</td>\n",
       "      <td>dataFiles/Linnaeus 5 256X256/train_blurred_img...</td>\n",
       "      <td>dataFiles/Linnaeus 5 256X256/train_blurred_img...</td>\n",
       "    </tr>\n",
       "    <tr>\n",
       "      <th>29997</th>\n",
       "      <td>[-7.08, 0.0, -0.34, 2.5, [[0.00108027589490736...</td>\n",
       "      <td>dataFiles/Linnaeus 5 256X256/train/other/995_2...</td>\n",
       "      <td>dataFiles/Linnaeus 5 256X256/train_blurred_img...</td>\n",
       "      <td>dataFiles/Linnaeus 5 256X256/train_blurred_img...</td>\n",
       "    </tr>\n",
       "    <tr>\n",
       "      <th>29998</th>\n",
       "      <td>[-4.56, 0.0, -1.09, 2.5, [[0.00216508556400213...</td>\n",
       "      <td>dataFiles/Linnaeus 5 256X256/train/other/995_2...</td>\n",
       "      <td>dataFiles/Linnaeus 5 256X256/train_blurred_img...</td>\n",
       "      <td>dataFiles/Linnaeus 5 256X256/train_blurred_img...</td>\n",
       "    </tr>\n",
       "    <tr>\n",
       "      <th>29999</th>\n",
       "      <td>[-5.92, 0.0, -1.79, 2.5, [[0.00111462496627701...</td>\n",
       "      <td>dataFiles/Linnaeus 5 256X256/train/other/995_2...</td>\n",
       "      <td>dataFiles/Linnaeus 5 256X256/train_blurred_img...</td>\n",
       "      <td>dataFiles/Linnaeus 5 256X256/train_blurred_img...</td>\n",
       "    </tr>\n",
       "  </tbody>\n",
       "</table>\n",
       "</div>"
      ],
      "text/plain": [
       "                                              PSF_params  \\\n",
       "29995  [-7.7, 0.0, -2.56, 2.5, [[0.000604876734375065...   \n",
       "29996  [-4.93, 0.0, -2.37, 2.5, [[0.00149893011150010...   \n",
       "29997  [-7.08, 0.0, -0.34, 2.5, [[0.00108027589490736...   \n",
       "29998  [-4.56, 0.0, -1.09, 2.5, [[0.00216508556400213...   \n",
       "29999  [-5.92, 0.0, -1.79, 2.5, [[0.00111462496627701...   \n",
       "\n",
       "                                Path_to_Ground_truth_img  \\\n",
       "29995  dataFiles/Linnaeus 5 256X256/train/other/995_2...   \n",
       "29996  dataFiles/Linnaeus 5 256X256/train/other/995_2...   \n",
       "29997  dataFiles/Linnaeus 5 256X256/train/other/995_2...   \n",
       "29998  dataFiles/Linnaeus 5 256X256/train/other/995_2...   \n",
       "29999  dataFiles/Linnaeus 5 256X256/train/other/995_2...   \n",
       "\n",
       "                                     Path_to_blurred_img  \\\n",
       "29995  dataFiles/Linnaeus 5 256X256/train_blurred_img...   \n",
       "29996  dataFiles/Linnaeus 5 256X256/train_blurred_img...   \n",
       "29997  dataFiles/Linnaeus 5 256X256/train_blurred_img...   \n",
       "29998  dataFiles/Linnaeus 5 256X256/train_blurred_img...   \n",
       "29999  dataFiles/Linnaeus 5 256X256/train_blurred_img...   \n",
       "\n",
       "                               Path_to_blurred_img_noisy  \n",
       "29995  dataFiles/Linnaeus 5 256X256/train_blurred_img...  \n",
       "29996  dataFiles/Linnaeus 5 256X256/train_blurred_img...  \n",
       "29997  dataFiles/Linnaeus 5 256X256/train_blurred_img...  \n",
       "29998  dataFiles/Linnaeus 5 256X256/train_blurred_img...  \n",
       "29999  dataFiles/Linnaeus 5 256X256/train_blurred_img...  "
      ]
     },
     "execution_count": 40,
     "metadata": {},
     "output_type": "execute_result"
    }
   ],
   "source": [
    "df.tail()"
   ]
  },
  {
   "cell_type": "code",
   "execution_count": 41,
   "metadata": {},
   "outputs": [
    {
     "name": "stdout",
     "output_type": "stream",
     "text": [
      "dataFiles/Linnaeus 5 256X256/train_blurred_imgs/psf_[-7.7, 0.0, -2.56, 2.5]/psf+[-7.7, 0.0, -2.56, 2.5]+GT+berry+1012_256.jpg\n"
     ]
    }
   ],
   "source": [
    "print(df['Path_to_blurred_img'][0])"
   ]
  },
  {
   "cell_type": "code",
   "execution_count": 42,
   "metadata": {},
   "outputs": [
    {
     "name": "stdout",
     "output_type": "stream",
     "text": [
      "There are 30000 processe images\n"
     ]
    }
   ],
   "source": [
    "print(f\"There are {proceced_imgs} processe images\")"
   ]
  },
  {
   "cell_type": "code",
   "execution_count": null,
   "metadata": {},
   "outputs": [],
   "source": []
  },
  {
   "cell_type": "code",
   "execution_count": null,
   "metadata": {},
   "outputs": [],
   "source": []
  },
  {
   "cell_type": "code",
   "execution_count": null,
   "metadata": {},
   "outputs": [],
   "source": []
  },
  {
   "cell_type": "code",
   "execution_count": null,
   "metadata": {},
   "outputs": [],
   "source": []
  },
  {
   "cell_type": "code",
   "execution_count": null,
   "metadata": {},
   "outputs": [],
   "source": []
  },
  {
   "cell_type": "code",
   "execution_count": null,
   "metadata": {},
   "outputs": [],
   "source": []
  },
  {
   "cell_type": "code",
   "execution_count": null,
   "metadata": {},
   "outputs": [],
   "source": []
  },
  {
   "cell_type": "code",
   "execution_count": null,
   "metadata": {},
   "outputs": [],
   "source": []
  },
  {
   "cell_type": "code",
   "execution_count": null,
   "metadata": {},
   "outputs": [],
   "source": []
  },
  {
   "cell_type": "code",
   "execution_count": null,
   "metadata": {},
   "outputs": [],
   "source": []
  },
  {
   "cell_type": "code",
   "execution_count": null,
   "metadata": {},
   "outputs": [],
   "source": []
  },
  {
   "cell_type": "code",
   "execution_count": null,
   "metadata": {},
   "outputs": [],
   "source": []
  },
  {
   "cell_type": "code",
   "execution_count": null,
   "metadata": {},
   "outputs": [],
   "source": []
  },
  {
   "cell_type": "code",
   "execution_count": null,
   "metadata": {},
   "outputs": [],
   "source": []
  }
 ],
 "metadata": {
  "kernelspec": {
   "display_name": "Python 3",
   "language": "python",
   "name": "python3"
  },
  "language_info": {
   "codemirror_mode": {
    "name": "ipython",
    "version": 3
   },
   "file_extension": ".py",
   "mimetype": "text/x-python",
   "name": "python",
   "nbconvert_exporter": "python",
   "pygments_lexer": "ipython3",
   "version": "3.6.10"
  }
 },
 "nbformat": 4,
 "nbformat_minor": 4
}
