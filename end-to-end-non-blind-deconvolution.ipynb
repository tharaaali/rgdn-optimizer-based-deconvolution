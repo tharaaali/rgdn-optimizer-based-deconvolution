{
 "cells": [
  {
   "cell_type": "markdown",
   "metadata": {},
   "source": [
    "# End-to-end-non-blind-deconvolution\n",
    "\n",
    "This notebook builds an end-to-end non-blind-deconvolution train rgd optimizer using and torch==1.10 \n",
    "\n",
    "## 1. Problem\n",
    "\n",
    "Non blind deconvolution\n",
    "we have blure image and the kernel that has been used to be blured, we need to get the laten image \n",
    "y = k ∗ x + n\n",
    "\n",
    "* y ∈ R^m : blurred image \n",
    "* k ∈ R^l : corresponding blur kernel k\n",
    "* x ∈ R^n : latent image  \n",
    "* ∗ denotes the convolution operator\n",
    "* n ∈ R^m : denotes an i.i.d. white Gaussian noise term with unknown standard deviation (i.e. noise level).\n",
    "\n",
    "givin y and k, we need to estimate x\n",
    "\n",
    "k is the psf of an eye of individuals having refractive vision problems. !\n",
    "\n",
    "\n",
    "## 2. Data\n",
    "\n",
    "The data we're using till now: *DATASET FROM HRTR: http://chaladze.com/l5/* \n",
    "//could be updated later\n",
    "\n",
    "\n",
    "## 3. Evaluation\n",
    "\n",
    "The evaluation is **PSNR** and **SSIM** //not commited yet\n",
    "Now is also visualisation of output photos VS originl photos 'ground truth'\n",
    "\n",
    "\n",
    "## 4. Features\n",
    "\n",
    "Some information about the data:\n",
    "* We're dealing with images (unstructured data) so it's probably best we use deep learning/transfer learning.\n",
    "* We're generating dataset : blur kernel k, and n noise , and then y by ourself   \n",
    "* \n",
    "* . \n"
   ]
  },
  {
   "cell_type": "code",
   "execution_count": 1,
   "metadata": {},
   "outputs": [
    {
     "data": {
      "text/plain": [
       "2"
      ]
     },
     "execution_count": 1,
     "metadata": {},
     "output_type": "execute_result"
    }
   ],
   "source": [
    "# first test add \n",
    "1+1"
   ]
  },
  {
   "cell_type": "markdown",
   "metadata": {},
   "source": [
    "### Get our workspace ready\n",
    "\n",
    "* Reload all modules (except those excluded by %aimport) automatically now. '%autoreload'\n",
    "* Reload all modules (except those excluded by %aimport) every time before executing the Python code typed. '%autoreload 2' ✅\n",
    "* Import torch=1.10 ✅\n",
    "* Make sure we're using a GPU ✅\n",
    "* install lib  pydoe, torchsummary, torchmetrics, piq ✅\n"
   ]
  },
  {
   "cell_type": "code",
   "execution_count": 2,
   "metadata": {},
   "outputs": [],
   "source": [
    "\n",
    "# !pip install pydoe -q\n",
    "# !pip install torchsummary -q\n",
    "# !pip install torchmetrics -q\n",
    "# !pip install piq -q\n",
    "\n",
    "\n",
    "# !pip install torch==1.10 "
   ]
  },
  {
   "cell_type": "code",
   "execution_count": 2,
   "metadata": {},
   "outputs": [
    {
     "name": "stdout",
     "output_type": "stream",
     "text": [
      "TF version: 1.10.0+cu102\n",
      "GPU available (YESSSS!!!!!)\n"
     ]
    }
   ],
   "source": [
    "# Import necessary tools\n",
    "import torch \n",
    "\n",
    "\n",
    "\n",
    "\n",
    "\n",
    "\n",
    "\n",
    "\n",
    "print(\"TF version:\", torch.__version__)\n",
    "\n",
    "# Check for GPU availability\n",
    "print(\"GPU\", \"available (YESSSS!!!!!)\" if torch.cuda.is_available() else \"not available :(\")"
   ]
  },
  {
   "cell_type": "markdown",
   "metadata": {},
   "source": [
    "## Getting our data ready (turning into Tensors)\n",
    "\n",
    "With all machine learning models, our data has to be in numerical format. So that's what we'll be doing first. Turning our images into Tensors (numerical representations).\n",
    "\n",
    "Let's start by accessing our data and checking out the labels."
   ]
  },
  {
   "cell_type": "code",
   "execution_count": null,
   "metadata": {},
   "outputs": [],
   "source": [
    "# Checkout the labels of our data\n",
    "import pandas as pd\n",
    "labels_csv = pd.read_csv(\"drive/My Drive/Dog Vision/labels.csv\")\n",
    "print(labels_csv.describe())\n",
    "print(labels_csv.head())"
   ]
  }
 ],
 "metadata": {
  "kernelspec": {
   "display_name": "Python 3",
   "language": "python",
   "name": "python3"
  },
  "language_info": {
   "codemirror_mode": {
    "name": "ipython",
    "version": 3
   },
   "file_extension": ".py",
   "mimetype": "text/x-python",
   "name": "python",
   "nbconvert_exporter": "python",
   "pygments_lexer": "ipython3",
   "version": "3.6.10"
  }
 },
 "nbformat": 4,
 "nbformat_minor": 4
}
